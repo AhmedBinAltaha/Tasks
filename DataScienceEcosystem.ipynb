{
 "cells": [
  {
   "cell_type": "markdown",
   "id": "7d219a38",
   "metadata": {},
   "source": [
    "Data Science Tools and Ecosystem"
   ]
  },
  {
   "cell_type": "markdown",
   "id": "259e8ef2",
   "metadata": {},
   "source": [
    "In this notebook, Data Science Tools and Ecosystem are summarized"
   ]
  },
  {
   "cell_type": "markdown",
   "id": "aaf22359",
   "metadata": {},
   "source": [
    "**Objectives:**\n",
    "- List popular languages for Data Science.\n",
    "- Introduce commonly used libraries in Data Science.\n",
    "- Provide examples of evaluating arithmetic expressions in Python.\n",
    "- Demonstrate the usage of development environment tools in Data Science.\n",
    "- Highlight key takeaways for understanding fundamental concepts in Data Science."
   ]
  },
  {
   "cell_type": "markdown",
   "id": "6539cecf",
   "metadata": {},
   "source": [
    "Some of the popular languages that Data Scientists use are:"
   ]
  },
  {
   "cell_type": "markdown",
   "id": "eb51f29f",
   "metadata": {},
   "source": [
    "1. **python**\n",
    "\n",
    "2. **R**\n",
    "\n",
    "3. **Scala**\n"
   ]
  },
  {
   "cell_type": "markdown",
   "id": "9338086b",
   "metadata": {},
   "source": [
    "Some of the commonly used libraries used by Data Scientists include:"
   ]
  },
  {
   "cell_type": "markdown",
   "id": "2d110f2e",
   "metadata": {},
   "source": [
    "1. **NumPy**\n",
    "\n",
    "2. **Pandas**\n",
    "\n",
    "3. **Matplotlib**\n",
    "\n",
    "4. **Seaborn**"
   ]
  },
  {
   "cell_type": "markdown",
   "id": "1b3dd36e",
   "metadata": {},
   "source": [
    "| Data Science Tools     |\n",
    "|------------------------|\n",
    "| Jupyter Notebook       |\n",
    "| RStudio                |\n",
    "| VS Code with Extensions|\n"
   ]
  },
  {
   "cell_type": "markdown",
   "id": "29d12cab",
   "metadata": {},
   "source": [
    "Below are a few examples of evaluating arithmetic expressions in Python"
   ]
  },
  {
   "cell_type": "markdown",
   "id": "9fcf8f0d",
   "metadata": {},
   "source": [
    "This a simple arithmetic expression to mutiply then add integers"
   ]
  },
  {
   "cell_type": "code",
   "execution_count": 6,
   "id": "c2e8c240",
   "metadata": {},
   "outputs": [
    {
     "data": {
      "text/plain": [
       "17"
      ]
     },
     "execution_count": 6,
     "metadata": {},
     "output_type": "execute_result"
    }
   ],
   "source": [
    "result=(3*4)+5\n",
    "result"
   ]
  },
  {
   "cell_type": "markdown",
   "id": "f8db4b34",
   "metadata": {},
   "source": [
    "This will convert 200 minutes to hours by diving by 60"
   ]
  },
  {
   "cell_type": "code",
   "execution_count": 7,
   "id": "4ec109e1",
   "metadata": {},
   "outputs": [
    {
     "data": {
      "text/plain": [
       "3.3333333333333335"
      ]
     },
     "execution_count": 7,
     "metadata": {},
     "output_type": "execute_result"
    }
   ],
   "source": [
    "houres=200/60\n",
    "houres"
   ]
  },
  {
   "cell_type": "markdown",
   "id": "6e83429a",
   "metadata": {},
   "source": [
    "## Author\n",
    "Ahmed Elsayed Ahmed"
   ]
  },
  {
   "cell_type": "code",
   "execution_count": null,
   "id": "a62c3d0e",
   "metadata": {},
   "outputs": [],
   "source": []
  }
 ],
 "metadata": {
  "kernelspec": {
   "display_name": "Python 3 (ipykernel)",
   "language": "python",
   "name": "python3"
  },
  "language_info": {
   "codemirror_mode": {
    "name": "ipython",
    "version": 3
   },
   "file_extension": ".py",
   "mimetype": "text/x-python",
   "name": "python",
   "nbconvert_exporter": "python",
   "pygments_lexer": "ipython3",
   "version": "3.11.3"
  }
 },
 "nbformat": 4,
 "nbformat_minor": 5
}
